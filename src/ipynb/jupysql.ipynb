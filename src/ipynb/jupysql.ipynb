{
 "cells": [
  {
   "cell_type": "code",
   "execution_count": null,
   "metadata": {},
   "outputs": [],
   "source": [
    "from sqlalchemy import create_engine"
   ]
  },
  {
   "cell_type": "code",
   "execution_count": null,
   "metadata": {},
   "outputs": [],
   "source": [
    "%load_ext sql"
   ]
  },
  {
   "cell_type": "code",
   "execution_count": null,
   "metadata": {},
   "outputs": [],
   "source": [
    "drivername = \"postgresql\"\n",
    "username = \"postgres\"\n",
    "password = \"postgres\"\n",
    "host = \"localhost\"\n",
    "port = \"5432\"\n",
    "database = \"analysis\"\n",
    "db_url = f\"{drivername}://{username}:{password}@{host}/{database}\"\n",
    "engine = create_engine(db_url)"
   ]
  },
  {
   "cell_type": "code",
   "execution_count": null,
   "metadata": {},
   "outputs": [],
   "source": [
    "%sql engine"
   ]
  },
  {
   "cell_type": "code",
   "execution_count": null,
   "metadata": {},
   "outputs": [],
   "source": [
    "%%sql\n",
    "CREATE TABLE teachers (\n",
    "    id bigserial,\n",
    "    first_name varchar(25),\n",
    "    last_name varchar(50),\n",
    "    school varchar(50),\n",
    "    hire_date date,\n",
    "    salary numeric\n",
    ");"
   ]
  },
  {
   "cell_type": "code",
   "execution_count": null,
   "metadata": {},
   "outputs": [],
   "source": [
    "%%sql\n",
    "INSERT INTO teachers (first_name, last_name, school, hire_date, salary)\n",
    "VALUES ('Janet', 'Smith', 'F.D. Roosevelt HS', '2011-10-30', 36200),\n",
    "       ('Lee', 'Reynolds', 'F.D. Roosevelt HS', '1993-05-22', 65000),\n",
    "       ('Samuel', 'Cole', 'Myers Middle School', '2005-08-01', 43500),\n",
    "       ('Samantha', 'Bush', 'Myers Middle School', '2011-10-30', 36200),\n",
    "       ('Betty', 'Diaz', 'Myers Middle School', '2005-08-30', 43500),\n",
    "       ('Kathleen', 'Roush', 'F.D. Roosevelt HS', '2010-10-22', 38500);"
   ]
  },
  {
   "cell_type": "code",
   "execution_count": null,
   "metadata": {},
   "outputs": [],
   "source": [
    "%%sql \n",
    "select * from teachers;"
   ]
  },
  {
   "cell_type": "code",
   "execution_count": null,
   "metadata": {},
   "outputs": [],
   "source": []
  }
 ],
 "metadata": {
  "kernelspec": {
   "display_name": "base",
   "language": "python",
   "name": "python3"
  },
  "language_info": {
   "codemirror_mode": {
    "name": "ipython",
    "version": 3
   },
   "file_extension": ".py",
   "mimetype": "text/x-python",
   "name": "python",
   "nbconvert_exporter": "python",
   "pygments_lexer": "ipython3",
   "version": "3.11.8"
  }
 },
 "nbformat": 4,
 "nbformat_minor": 2
}
