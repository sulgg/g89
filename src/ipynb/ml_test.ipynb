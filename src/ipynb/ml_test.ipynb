{
 "cells": [
  {
   "cell_type": "code",
   "execution_count": 1,
   "metadata": {},
   "outputs": [],
   "source": [
    "import pandas as pd\n",
    "import numpy as np"
   ]
  },
  {
   "cell_type": "code",
   "execution_count": 2,
   "metadata": {},
   "outputs": [
    {
     "name": "stderr",
     "output_type": "stream",
     "text": [
      "Failed to integrate module: opencensus.ext.logging.trace\n",
      "No module named 'opencensus.ext.logging'\n"
     ]
    }
   ],
   "source": [
    "from azure.ai.ml import MLClient\n",
    "from azure.identity import DefaultAzureCredential\n",
    "\n",
    "subscription_id = \"795aa645-3883-4a25-b6f4-58eeb0ac8988\"\n",
    "resource_group = \"rg-dp100-labs\"\n",
    "workspace = \"mlw-dp100-lab\"\n",
    "\n",
    "ml_client = MLClient(\n",
    "    DefaultAzureCredential(), subscription_id, resource_group, workspace\n",
    ")"
   ]
  },
  {
   "cell_type": "code",
   "execution_count": 7,
   "metadata": {},
   "outputs": [
    {
     "name": "stdout",
     "output_type": "stream",
     "text": [
      "eastus\n",
      "rg-dp100-labs\n"
     ]
    },
    {
     "name": "stderr",
     "output_type": "stream",
     "text": [
      "Unhandled exception from exporter.\n",
      "Traceback (most recent call last):\n",
      "  File \"/opt/conda/lib/python3.12/site-packages/opencensus/ext/azure/log_exporter/__init__.py\", line 161, in run\n",
      "    dst._export(batch)\n",
      "  File \"/opt/conda/lib/python3.12/site-packages/opencensus/ext/azure/log_exporter/__init__.py\", line 74, in _export\n",
      "    envelopes = [self.log_record_to_envelope(x) for x in batch]\n",
      "                 ^^^^^^^^^^^^^^^^^^^^^^^^^^^^^^\n",
      "  File \"/opt/conda/lib/python3.12/site-packages/azure/ai/ml/_telemetry/logging_handler.py\", line 196, in log_record_to_envelope\n",
      "    \"span_id\": record.spanId,\n",
      "               ^^^^^^^^^^^^^\n",
      "AttributeError: 'LogRecord' object has no attribute 'spanId'\n"
     ]
    }
   ],
   "source": [
    "# Verify that the handle works correctly.\n",
    "# If you ge an error here, modify your SUBSCRIPTION, RESOURCE_GROUP, and WS_NAME in the previous cell.\n",
    "ws = ml_client.workspaces.get(workspace)\n",
    "print(ws.location)\n",
    "print(ws.resource_group)"
   ]
  },
  {
   "cell_type": "code",
   "execution_count": 5,
   "metadata": {},
   "outputs": [
    {
     "data": {
      "text/plain": [
       "MLClient(credential=<azure.identity._credentials.default.DefaultAzureCredential object at 0xffff6d5c3d70>,\n",
       "         subscription_id=795aa645-3883-4a25-b6f4-58eeb0ac8988,\n",
       "         resource_group_name=rg-dp100-labs,\n",
       "         workspace_name=mlw-dp100-lab)"
      ]
     },
     "execution_count": 5,
     "metadata": {},
     "output_type": "execute_result"
    }
   ],
   "source": [
    "ml_client"
   ]
  },
  {
   "cell_type": "code",
   "execution_count": 4,
   "metadata": {},
   "outputs": [
    {
     "name": "stderr",
     "output_type": "stream",
     "text": [
      "Unhandled exception from exporter.\n",
      "Traceback (most recent call last):\n",
      "  File \"/opt/conda/lib/python3.12/site-packages/opencensus/ext/azure/log_exporter/__init__.py\", line 161, in run\n",
      "    dst._export(batch)\n",
      "  File \"/opt/conda/lib/python3.12/site-packages/opencensus/ext/azure/log_exporter/__init__.py\", line 74, in _export\n",
      "    envelopes = [self.log_record_to_envelope(x) for x in batch]\n",
      "                 ^^^^^^^^^^^^^^^^^^^^^^^^^^^^^^\n",
      "  File \"/opt/conda/lib/python3.12/site-packages/azure/ai/ml/_telemetry/logging_handler.py\", line 196, in log_record_to_envelope\n",
      "    \"span_id\": record.spanId,\n",
      "               ^^^^^^^^^^^^^\n",
      "AttributeError: 'LogRecord' object has no attribute 'spanId'\n"
     ]
    }
   ],
   "source": [
    "from azure.ai.ml import command\n",
    "\n",
    "# configure job\n",
    "job = command(\n",
    "    code=\"../test\",\n",
    "    command=\"python train.py\",\n",
    "    environment=\"AzureML-sklearn-0.24-ubuntu18.04-py37-cpu@latest\",\n",
    "    compute=\"aml-cluster\",\n",
    "    experiment_name=\"train-model\"\n",
    ")\n",
    "\n",
    "# connect to workspace and submit job\n",
    "returned_job = ml_client.create_or_update(job)"
   ]
  }
 ],
 "metadata": {
  "kernelspec": {
   "display_name": "base",
   "language": "python",
   "name": "python3"
  },
  "language_info": {
   "codemirror_mode": {
    "name": "ipython",
    "version": 3
   },
   "file_extension": ".py",
   "mimetype": "text/x-python",
   "name": "python",
   "nbconvert_exporter": "python",
   "pygments_lexer": "ipython3",
   "version": "3.12.5"
  }
 },
 "nbformat": 4,
 "nbformat_minor": 2
}
