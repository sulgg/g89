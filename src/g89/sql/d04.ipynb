{
 "cells": [
  {
   "cell_type": "code",
   "execution_count": null,
   "metadata": {},
   "outputs": [],
   "source": [
    "from sqlalchemy import create_engine\n",
    "\n",
    "%load_ext sql\n",
    "%config SqlMagic.displaylimit = None\n",
    "\n",
    "drivername = \"postgresql\"\n",
    "username = \"postgres\"\n",
    "password = \"postgres\"\n",
    "host = \"localhost\"\n",
    "port = \"5432\"\n",
    "# database = \"postgres\"\n",
    "database = \"desafio04\"\n",
    "\n",
    "db_url = f\"{drivername}://{username}:{password}@{host}/{database}\"\n",
    "engine = create_engine(db_url)\n",
    "\n",
    "%sql engine"
   ]
  },
  {
   "cell_type": "markdown",
   "metadata": {},
   "source": [
    "```sql\n",
    "create database desafio04;\n",
    "```"
   ]
  },
  {
   "cell_type": "markdown",
   "metadata": {},
   "source": [
    "# 1. Creacion de tablas e ingreso de registros"
   ]
  },
  {
   "cell_type": "markdown",
   "metadata": {},
   "source": [
    "## usuarios"
   ]
  },
  {
   "cell_type": "markdown",
   "metadata": {},
   "source": [
    "```sql\n",
    "%%sql\n",
    "CREATE TABLE usuarios (\n",
    "    id SERIAL,\n",
    "    email VARCHAR,\n",
    "    nombre VARCHAR,\n",
    "    apellido VARCHAR,\n",
    "    rol VARCHAR\n",
    "    );\n",
    "\n",
    "INSERT INTO usuarios(id, email, nombre, apellido, rol)\n",
    "VALUES\n",
    "(DEFAULT, 'juan@mail.com', 'juan', 'perez', 'administrador'),\n",
    "(DEFAULT,'diego@mail.com', 'diego', 'munoz', 'usuario'),\n",
    "(DEFAULT,'maria@mail.com', 'maria', 'meza', 'usuario'),\n",
    "(DEFAULT,'roxana@mail.com','roxana', 'diaz', 'usuario'),\n",
    "(DEFAULT,'pedro@mail.com', 'pedro', 'diaz', 'usuario');\n",
    "```"
   ]
  },
  {
   "cell_type": "markdown",
   "metadata": {},
   "source": [
    "## posts"
   ]
  },
  {
   "cell_type": "markdown",
   "metadata": {},
   "source": [
    "```sql\n",
    "%%sql\n",
    "CREATE TABLE posts (\n",
    "    id SERIAL,\n",
    "    titulo VARCHAR,\n",
    "    contenido TEXT,\n",
    "    fecha_creacion DATE,\n",
    "    fecha_actualizacion DATE,\n",
    "    destacado BOOLEAN,\n",
    "    usuario_id BIGINT\n",
    "    );\n",
    "\n",
    "INSERT INTO posts (\n",
    "    id, titulo, contenido, fecha_creacion, fecha_actualizacion, destacado, usuario_id)\n",
    "VALUES\n",
    "(DEFAULT, 'prueba', 'contenido prueba', '01/01/2021', '01/02/2021', true, 1),\n",
    "(DEFAULT, 'prueba2', 'contenido prueba2', '01/03/2021', '01/03/2021', true, 1),\n",
    "(DEFAULT, 'ejercicios', 'contenido ejercicios', '02/05/2021', '03/04/2021', true, 2),\n",
    "(DEFAULT, 'ejercicios2', 'contenido ejercicios2', '03/05/2021', '04/04/2021', false, 2),\n",
    "(DEFAULT, 'random', 'contenido random', '03/06/2021', '04/05/2021', false, null);\n",
    "```"
   ]
  },
  {
   "cell_type": "markdown",
   "metadata": {},
   "source": [
    "## comentarios"
   ]
  },
  {
   "cell_type": "markdown",
   "metadata": {},
   "source": [
    "```sql\n",
    "%%sql\n",
    "CREATE TABLE comentarios (\n",
    "    id SERIAL,\n",
    "    contenido VARCHAR,\n",
    "    fecha_creacion DATE,\n",
    "    usuario_id BIGINT,\n",
    "    post_id BIGINT\n",
    "    );\n",
    "\n",
    "INSERT INTO comentarios (id, contenido, fecha_creacion, usuario_id, post_id)\n",
    "VALUES\n",
    "(DEFAULT, 'comentario 1', '03/06/2021', 1, 1),\n",
    "(DEFAULT, 'comentario 2', '03/06/2021', 2, 1),\n",
    "(DEFAULT, 'comentario 3', '04/06/2021', 3, 1),\n",
    "(DEFAULT, 'comentario 4', '04/06/2021', 1, 2),\n",
    "(DEFAULT, 'comentario 5', '04/06/2021', 2, 2);\n",
    "```"
   ]
  },
  {
   "cell_type": "markdown",
   "metadata": {},
   "source": [
    "# Tablas"
   ]
  },
  {
   "cell_type": "code",
   "execution_count": null,
   "metadata": {},
   "outputs": [],
   "source": [
    "%%sql\n",
    "select * from usuarios;"
   ]
  },
  {
   "cell_type": "code",
   "execution_count": null,
   "metadata": {},
   "outputs": [],
   "source": [
    "%%sql\n",
    "select * from posts;"
   ]
  },
  {
   "cell_type": "code",
   "execution_count": null,
   "metadata": {},
   "outputs": [],
   "source": [
    "%%sql\n",
    "select * from comentarios;"
   ]
  },
  {
   "cell_type": "markdown",
   "metadata": {},
   "source": [
    "## 2. Cruza los datos de la tabla usuarios y posts\n",
    "Mostrando las siguientes columnas: nombre y email del usuario junto al título y contenido del post."
   ]
  },
  {
   "cell_type": "code",
   "execution_count": null,
   "metadata": {},
   "outputs": [],
   "source": [
    "%%sql\n",
    "SELECT usuarios.nombre, usuarios.email, posts.titulo, posts.contenido\n",
    "FROM usuarios JOIN posts\n",
    "ON usuarios.id = posts.usuario_id;"
   ]
  },
  {
   "cell_type": "markdown",
   "metadata": {},
   "source": [
    "## 3. Muestra el id, título y contenido de los posts de los administradores\n",
    "El administrador puede ser cualquier id y debe ser seleccionado dinámicamente."
   ]
  },
  {
   "cell_type": "code",
   "execution_count": null,
   "metadata": {},
   "outputs": [],
   "source": [
    "%%sql\n",
    "SELECT posts.id, posts.titulo, posts.contenido\n",
    "FROM usuarios JOIN posts\n",
    "ON usuarios.id = posts.usuario_id\n",
    "WHERE usuarios.rol = 'administrador';"
   ]
  },
  {
   "cell_type": "markdown",
   "metadata": {},
   "source": [
    "## 4. Cuenta la cantidad de posts de cada usuario.\n",
    "Mostrar el id y email del usuario junto con la cantidad de posts de cada usuario.\n",
    "\n",
    "Hint: Aquí hay diferencia entre utilizar inner join, left join o right join, prueba con ambas y con eso determina cuál es la correcta. No da lo mismo desde cuál tabla partes."
   ]
  },
  {
   "cell_type": "code",
   "execution_count": null,
   "metadata": {},
   "outputs": [],
   "source": [
    "%%sql\n",
    "SELECT usuarios.id, usuarios.email, COUNT(posts.id)\n",
    "FROM usuarios LEFT JOIN posts\n",
    "ON usuarios.id = posts.usuario_id\n",
    "GROUP BY usuarios.id, usuarios.email\n",
    "ORDER BY usuarios.id;"
   ]
  },
  {
   "cell_type": "markdown",
   "metadata": {},
   "source": [
    "## 5. Muestra el email del usuario que ha creado más posts\n",
    "Aquí la tabla resultante tiene un único registro y muestra solo el email."
   ]
  },
  {
   "cell_type": "code",
   "execution_count": null,
   "metadata": {},
   "outputs": [],
   "source": [
    "%%sql\n",
    "SELECT usuarios.email\n",
    "FROM posts JOIN usuarios\n",
    "ON posts.usuario_id = usuarios.id\n",
    "GROUP BY usuarios.id, usuarios.email\n",
    "ORDER BY COUNT(posts.id) DESC;"
   ]
  },
  {
   "cell_type": "markdown",
   "metadata": {},
   "source": [
    "## 6. Muestra la fecha del último post de cada usuario\n",
    "Utiliza la función de agregado MAX sobre la fecha de creación."
   ]
  },
  {
   "cell_type": "code",
   "execution_count": null,
   "metadata": {},
   "outputs": [],
   "source": [
    "%%sql\n",
    "SELECT nombre, MAX(fecha_creacion)\n",
    "FROM (\n",
    "    SELECT posts.contenido, posts.fecha_creacion, usuarios.nombre\n",
    "    FROM usuarios JOIN posts\n",
    "    ON usuarios.id = posts.usuario_id\n",
    "    ) AS p\n",
    "GROUP BY p.nombre;"
   ]
  },
  {
   "cell_type": "markdown",
   "metadata": {},
   "source": [
    "## 7. Muestra el título y contenido del post con más comentarios"
   ]
  },
  {
   "cell_type": "code",
   "execution_count": null,
   "metadata": {},
   "outputs": [],
   "source": [
    "%%sql\n",
    "SELECT titulo, contenido\n",
    "FROM posts JOIN (\n",
    "    SELECT post_id, COUNT(post_id)\n",
    "    FROM comentarios\n",
    "    GROUP BY post_id\n",
    "    ORDER BY count DESC\n",
    "    LIMIT 1\n",
    "    ) AS c\n",
    "ON posts.id = c.post_id;"
   ]
  },
  {
   "cell_type": "markdown",
   "metadata": {},
   "source": [
    "## 8. Muestra en el título y el contenido de cada post junto con el contenido de cada comentario\n",
    "Asociado a los post mostrados, junto con el email del usuario que lo escribió. "
   ]
  },
  {
   "cell_type": "code",
   "execution_count": null,
   "metadata": {},
   "outputs": [],
   "source": [
    "%%sql\n",
    "SELECT\n",
    "    posts.titulo as titulo_post,\n",
    "    posts.contenido as contenido_post,\n",
    "    comentarios.contenido as contenido_comentario,\n",
    "    usuarios.email\n",
    "FROM posts JOIN comentarios\n",
    "ON posts.id = comentarios.post_id\n",
    "JOIN usuarios\n",
    "ON comentarios.usuario_id = usuarios.id;"
   ]
  },
  {
   "cell_type": "markdown",
   "metadata": {},
   "source": [
    "## 9. Muestra el contenido del último comentario de cada usuario"
   ]
  },
  {
   "cell_type": "code",
   "execution_count": null,
   "metadata": {},
   "outputs": [],
   "source": [
    "%%sql\n",
    "SELECT fecha_creacion, contenido, usuario_id\n",
    "FROM comentarios as c JOIN usuarios as u\n",
    "ON c.usuario_id = u.id\n",
    "WHERE c.fecha_creacion = (\n",
    "    SELECT MAX(fecha_creacion)\n",
    "    FROM comentarios\n",
    "    WHERE usuario_id = u.id\n",
    "    );"
   ]
  },
  {
   "cell_type": "markdown",
   "metadata": {},
   "source": [
    "# 10. Muestra los emails de los usuarios que no han escrito ningún comentario\n",
    "Recuerda el Having"
   ]
  },
  {
   "cell_type": "code",
   "execution_count": null,
   "metadata": {},
   "outputs": [],
   "source": [
    "%%sql\n",
    "SELECT usuarios.email\n",
    "FROM usuarios LEFT JOIN comentarios\n",
    "ON usuarios.id = comentarios.usuario_id\n",
    "GROUP BY usuarios.email\n",
    "HAVING COUNT(comentarios.id) = 0;"
   ]
  }
 ],
 "metadata": {
  "kernelspec": {
   "display_name": "base",
   "language": "python",
   "name": "python3"
  },
  "language_info": {
   "codemirror_mode": {
    "name": "ipython",
    "version": 3
   },
   "file_extension": ".py",
   "mimetype": "text/x-python",
   "name": "python",
   "nbconvert_exporter": "python",
   "pygments_lexer": "ipython3",
   "version": "3.11.8"
  }
 },
 "nbformat": 4,
 "nbformat_minor": 2
}
